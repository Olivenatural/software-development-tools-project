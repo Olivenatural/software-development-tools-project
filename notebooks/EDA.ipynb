{
 "cells": [
  {
   "cell_type": "markdown",
   "metadata": {},
   "source": [
    "## Introduction\n",
    "\n",
    "This notebook explores the World Happiness Report dataset, which includes data on happiness scores across various countries. The goal is to visualize and analyze the relationships between happiness scores and factors like GDP, social support, life expectancy, and perceptions of corruption.\n",
    "\n",
    "# We will perform exploratory data analysis (EDA) to understand key patterns in the dataset, \n",
    "# create various visualizations, and build interactive components using Streamlit to display our findings.\n",
    "\n",
    "# Necessary Steps:\n",
    "# 1. Import the necessary libraries.\n",
    "# 2. Load the dataset (World Happiness Report) into a Pandas DataFrame.\n",
    "# 3. Perform basic exploratory data analysis (EDA).\n",
    "# 4. Create visualizations like histograms and scatter plots using Plotly Express.\n",
    "# 5. Use Streamlit components to create an interactive dashboard.\n",
    "\n",
    "## Data Description\n",
    "The World Happiness Report dataset contains several columns that describe various factors affecting global happiness. Below is a description of each column:\n",
    "\n",
    "- **Country name**: The name of the country.\n",
    "- **Ladder score**: The happiness score for each country (dependent variable).\n",
    "- **Explained by: Log GDP per capita**: The GDP per capita and its relationship with happiness.\n",
    "- **Explained by: Social support**: The amount of social support in each country.\n",
    "- **Explained by: Healthy life expectancy**: The average life expectancy in healthy years.\n",
    "- **Explained by: Freedom to make life choices**: The level of perceived freedom in making life choices.\n",
    "- **Explained by: Generosity**: The degree of generosity in each country.\n",
    "- **Explained by: Perceptions of corruption**: How corruption is perceived in each country.\n",
    "- **Dystopia + residual**: The base level of happiness, after adjusting for all other factors.\n"
   ]
  },
  {
   "cell_type": "markdown",
   "metadata": {},
   "source": [
    "### Importing Required Libraries\n",
    "\n",
    "In this cell, we import the necessary libraries to work with the data and create visualizations:\n",
    "- **Pandas** (`import pandas as pd`): Used for data manipulation and loading the CSV file.\n",
    "- **Plotly Express** (`import plotly.express as px`): Used to create visualizations like scatter plots and histograms.\n",
    "- **OS** (`import os`): Used for interacting with the operating system, like changing the working directory if necessary.\n",
    "\n",
    "These libraries will help us load, process, and visualize the data effectively."
   ]
  },
  {
   "cell_type": "code",
   "execution_count": 24,
   "metadata": {},
   "outputs": [],
   "source": [
    "import pandas as pd \n",
    "\n",
    "import plotly.express as px\n",
    "\n",
    "import os\n",
    "\n",
    "import streamlit as st\n"
   ]
  },
  {
   "cell_type": "markdown",
   "metadata": {},
   "source": [
    "### Changing Working Directory\n",
    "We will now change the working directory to where our data files are stored. This ensures that the dataset can be loaded correctly."
   ]
  },
  {
   "cell_type": "code",
   "execution_count": null,
   "metadata": {},
   "outputs": [],
   "source": [
    "os.chdir('/Users/tamauriolive/Projects/software-development-tools-project')\n"
   ]
  },
  {
   "cell_type": "markdown",
   "metadata": {},
   "source": [
    "### Loading the Dataset\n",
    "In this step, we will load the **World Happiness Report** dataset into a Pandas DataFrame using the `read_csv` function. This will allow us to analyze and visualize the data. Ensure that the dataset file is in the correct path or adjust the file path accordingly.\n"
   ]
  },
  {
   "cell_type": "code",
   "execution_count": 6,
   "metadata": {},
   "outputs": [],
   "source": [
    "import pandas as pd\n",
    "df = pd.read_csv('WHR2024.csv')"
   ]
  },
  {
   "cell_type": "markdown",
   "metadata": {},
   "source": [
    "### Data Overview\n",
    "After loading the dataset, we can check the first few rows of the data to verify its structure and ensure it loaded correctly. This will give us a glimpse of the columns and the data types in the dataset.\n"
   ]
  },
  {
   "cell_type": "markdown",
   "metadata": {},
   "source": [
    "### Displaying the First Few Rows\n",
    "Now that we have loaded the dataset, let's display the first few rows to ensure that the data has been loaded correctly. This will help us verify the structure of the dataset, the column names, and the first few records.\n"
   ]
  },
  {
   "cell_type": "code",
   "execution_count": 7,
   "metadata": {},
   "outputs": [
    {
     "data": {
      "text/html": [
       "<div>\n",
       "<style scoped>\n",
       "    .dataframe tbody tr th:only-of-type {\n",
       "        vertical-align: middle;\n",
       "    }\n",
       "\n",
       "    .dataframe tbody tr th {\n",
       "        vertical-align: top;\n",
       "    }\n",
       "\n",
       "    .dataframe thead th {\n",
       "        text-align: right;\n",
       "    }\n",
       "</style>\n",
       "<table border=\"1\" class=\"dataframe\">\n",
       "  <thead>\n",
       "    <tr style=\"text-align: right;\">\n",
       "      <th></th>\n",
       "      <th>Country name</th>\n",
       "      <th>Ladder score</th>\n",
       "      <th>upperwhisker</th>\n",
       "      <th>lowerwhisker</th>\n",
       "      <th>Explained by: Log GDP per capita</th>\n",
       "      <th>Explained by: Social support</th>\n",
       "      <th>Explained by: Healthy life expectancy</th>\n",
       "      <th>Explained by: Freedom to make life choices</th>\n",
       "      <th>Explained by: Generosity</th>\n",
       "      <th>Explained by: Perceptions of corruption</th>\n",
       "      <th>Dystopia + residual</th>\n",
       "    </tr>\n",
       "  </thead>\n",
       "  <tbody>\n",
       "    <tr>\n",
       "      <th>0</th>\n",
       "      <td>Finland</td>\n",
       "      <td>7.741</td>\n",
       "      <td>7.815</td>\n",
       "      <td>7.667</td>\n",
       "      <td>1.844</td>\n",
       "      <td>1.572</td>\n",
       "      <td>0.695</td>\n",
       "      <td>0.859</td>\n",
       "      <td>0.142</td>\n",
       "      <td>0.546</td>\n",
       "      <td>2.082</td>\n",
       "    </tr>\n",
       "    <tr>\n",
       "      <th>1</th>\n",
       "      <td>Denmark</td>\n",
       "      <td>7.583</td>\n",
       "      <td>7.665</td>\n",
       "      <td>7.500</td>\n",
       "      <td>1.908</td>\n",
       "      <td>1.520</td>\n",
       "      <td>0.699</td>\n",
       "      <td>0.823</td>\n",
       "      <td>0.204</td>\n",
       "      <td>0.548</td>\n",
       "      <td>1.881</td>\n",
       "    </tr>\n",
       "    <tr>\n",
       "      <th>2</th>\n",
       "      <td>Iceland</td>\n",
       "      <td>7.525</td>\n",
       "      <td>7.618</td>\n",
       "      <td>7.433</td>\n",
       "      <td>1.881</td>\n",
       "      <td>1.617</td>\n",
       "      <td>0.718</td>\n",
       "      <td>0.819</td>\n",
       "      <td>0.258</td>\n",
       "      <td>0.182</td>\n",
       "      <td>2.050</td>\n",
       "    </tr>\n",
       "    <tr>\n",
       "      <th>3</th>\n",
       "      <td>Sweden</td>\n",
       "      <td>7.344</td>\n",
       "      <td>7.422</td>\n",
       "      <td>7.267</td>\n",
       "      <td>1.878</td>\n",
       "      <td>1.501</td>\n",
       "      <td>0.724</td>\n",
       "      <td>0.838</td>\n",
       "      <td>0.221</td>\n",
       "      <td>0.524</td>\n",
       "      <td>1.658</td>\n",
       "    </tr>\n",
       "    <tr>\n",
       "      <th>4</th>\n",
       "      <td>Israel</td>\n",
       "      <td>7.341</td>\n",
       "      <td>7.405</td>\n",
       "      <td>7.277</td>\n",
       "      <td>1.803</td>\n",
       "      <td>1.513</td>\n",
       "      <td>0.740</td>\n",
       "      <td>0.641</td>\n",
       "      <td>0.153</td>\n",
       "      <td>0.193</td>\n",
       "      <td>2.298</td>\n",
       "    </tr>\n",
       "  </tbody>\n",
       "</table>\n",
       "</div>"
      ],
      "text/plain": [
       "  Country name  Ladder score  upperwhisker  lowerwhisker  \\\n",
       "0      Finland         7.741         7.815         7.667   \n",
       "1      Denmark         7.583         7.665         7.500   \n",
       "2      Iceland         7.525         7.618         7.433   \n",
       "3       Sweden         7.344         7.422         7.267   \n",
       "4       Israel         7.341         7.405         7.277   \n",
       "\n",
       "   Explained by: Log GDP per capita  Explained by: Social support  \\\n",
       "0                             1.844                         1.572   \n",
       "1                             1.908                         1.520   \n",
       "2                             1.881                         1.617   \n",
       "3                             1.878                         1.501   \n",
       "4                             1.803                         1.513   \n",
       "\n",
       "   Explained by: Healthy life expectancy  \\\n",
       "0                                  0.695   \n",
       "1                                  0.699   \n",
       "2                                  0.718   \n",
       "3                                  0.724   \n",
       "4                                  0.740   \n",
       "\n",
       "   Explained by: Freedom to make life choices  Explained by: Generosity  \\\n",
       "0                                       0.859                     0.142   \n",
       "1                                       0.823                     0.204   \n",
       "2                                       0.819                     0.258   \n",
       "3                                       0.838                     0.221   \n",
       "4                                       0.641                     0.153   \n",
       "\n",
       "   Explained by: Perceptions of corruption  Dystopia + residual  \n",
       "0                                    0.546                2.082  \n",
       "1                                    0.548                1.881  \n",
       "2                                    0.182                2.050  \n",
       "3                                    0.524                1.658  \n",
       "4                                    0.193                2.298  "
      ]
     },
     "execution_count": 7,
     "metadata": {},
     "output_type": "execute_result"
    }
   ],
   "source": [
    "# Show the first few rows of the dataset to check if it's loaded properly\n",
    "df.head()\n"
   ]
  },
  {
   "cell_type": "markdown",
   "metadata": {},
   "source": [
    "### Data Verification\n",
    "By examining the first few rows, we can see that the dataset contains information on various factors like **GDP per capita**, **social support**, and **healthy life expectancy** for different countries. The columns and values appear to be loaded correctly, and we can now proceed with further exploration and analysis.\n"
   ]
  },
  {
   "cell_type": "markdown",
   "metadata": {},
   "source": [
    "### Checking for Missing Values\n",
    "\n",
    "In this step, we will check for any missing (NaN) values in the dataset. Missing values can impact data analysis, so identifying and addressing them early on is essential. We'll use the `isnull()` function to detect missing values and `sum()` to count them in each column.\n"
   ]
  },
  {
   "cell_type": "code",
   "execution_count": 10,
   "metadata": {},
   "outputs": [
    {
     "data": {
      "text/plain": [
       "Country name                                  0\n",
       "Ladder score                                  0\n",
       "upperwhisker                                  0\n",
       "lowerwhisker                                  0\n",
       "Explained by: Log GDP per capita              3\n",
       "Explained by: Social support                  3\n",
       "Explained by: Healthy life expectancy         3\n",
       "Explained by: Freedom to make life choices    3\n",
       "Explained by: Generosity                      3\n",
       "Explained by: Perceptions of corruption       3\n",
       "Dystopia + residual                           3\n",
       "dtype: int64"
      ]
     },
     "execution_count": 10,
     "metadata": {},
     "output_type": "execute_result"
    }
   ],
   "source": [
    "\n",
    "# Check for any missing values in the dataset\n",
    "df.isnull().sum()"
   ]
  },
  {
   "cell_type": "markdown",
   "metadata": {},
   "source": [
    "### Results of Missing Value Check\n",
    "\n",
    "The output shows that there are missing values (NaN) in the following columns:\n",
    "\n",
    "- **Explained by: Log GDP per capita**: 3 missing values\n",
    "- **Explained by: Social support**: 3 missing values\n",
    "- **Explained by: Healthy life expectancy**: 3 missing values\n",
    "- **Explained by: Freedom to make life choices**: 3 missing values\n",
    "- **Explained by: Generosity**: 3 missing values\n",
    "- **Explained by: Perceptions of corruption**: 3 missing values\n",
    "- **Dystopia + residual**: 3 missing values\n",
    "\n",
    "Missing values in these columns need to be handled, either by filling them in (e.g., using the mean, median, or a model-based approach) or removing the rows containing them, depending on the amount of missing data and the specific requirements of the analysis.\n"
   ]
  },
  {
   "cell_type": "markdown",
   "metadata": {},
   "source": [
    "## Filling Missing Values with Mean\n",
    "\n",
    "In this step, we will address the missing values in the dataset. The columns with missing values are:\n",
    "\n",
    "- **Explained by: Log GDP per capita**\n",
    "- **Explained by: Social support**\n",
    "- **Explained by: Healthy life expectancy**\n",
    "- **Explained by: Freedom to make life choices**\n",
    "- **Explained by: Generosity**\n",
    "- **Explained by: Perceptions of corruption**\n",
    "- **Dystopia + residual**\n",
    "\n",
    "For these columns, we will fill the missing values with the **mean** of each column. The mean is chosen because it is a standard technique for filling missing values when the data is roughly symmetric and doesn't have extreme outliers.\n"
   ]
  },
  {
   "cell_type": "code",
   "execution_count": 12,
   "metadata": {},
   "outputs": [
    {
     "name": "stdout",
     "output_type": "stream",
     "text": [
      "         Country name  Ladder score  upperwhisker  lowerwhisker  \\\n",
      "0             Finland         7.741         7.815         7.667   \n",
      "1             Denmark         7.583         7.665         7.500   \n",
      "2             Iceland         7.525         7.618         7.433   \n",
      "3              Sweden         7.344         7.422         7.267   \n",
      "4              Israel         7.341         7.405         7.277   \n",
      "..                ...           ...           ...           ...   \n",
      "138  Congo (Kinshasa)         3.295         3.462         3.128   \n",
      "139      Sierra Leone         3.245         3.366         3.124   \n",
      "140           Lesotho         3.186         3.469         2.904   \n",
      "141           Lebanon         2.707         2.797         2.616   \n",
      "142       Afghanistan         1.721         1.775         1.667   \n",
      "\n",
      "     Explained by: Log GDP per capita  Explained by: Social support  \\\n",
      "0                               1.844                         1.572   \n",
      "1                               1.908                         1.520   \n",
      "2                               1.881                         1.617   \n",
      "3                               1.878                         1.501   \n",
      "4                               1.803                         1.513   \n",
      "..                                ...                           ...   \n",
      "138                             0.534                         0.665   \n",
      "139                             0.654                         0.566   \n",
      "140                             0.771                         0.851   \n",
      "141                             1.377                         0.577   \n",
      "142                             0.628                         0.000   \n",
      "\n",
      "     Explained by: Healthy life expectancy  \\\n",
      "0                                    0.695   \n",
      "1                                    0.699   \n",
      "2                                    0.718   \n",
      "3                                    0.724   \n",
      "4                                    0.740   \n",
      "..                                     ...   \n",
      "138                                  0.262   \n",
      "139                                  0.253   \n",
      "140                                  0.000   \n",
      "141                                  0.556   \n",
      "142                                  0.242   \n",
      "\n",
      "     Explained by: Freedom to make life choices  Explained by: Generosity  \\\n",
      "0                                         0.859                     0.142   \n",
      "1                                         0.823                     0.204   \n",
      "2                                         0.819                     0.258   \n",
      "3                                         0.838                     0.221   \n",
      "4                                         0.641                     0.153   \n",
      "..                                          ...                       ...   \n",
      "138                                       0.473                     0.189   \n",
      "139                                       0.469                     0.181   \n",
      "140                                       0.523                     0.082   \n",
      "141                                       0.173                     0.068   \n",
      "142                                       0.000                     0.091   \n",
      "\n",
      "     Explained by: Perceptions of corruption  Dystopia + residual  \n",
      "0                                      0.546                2.082  \n",
      "1                                      0.548                1.881  \n",
      "2                                      0.182                2.050  \n",
      "3                                      0.524                1.658  \n",
      "4                                      0.193                2.298  \n",
      "..                                       ...                  ...  \n",
      "138                                    0.072                1.102  \n",
      "139                                    0.053                1.068  \n",
      "140                                    0.085                0.875  \n",
      "141                                    0.029               -0.073  \n",
      "142                                    0.088                0.672  \n",
      "\n",
      "[143 rows x 11 columns]\n"
     ]
    }
   ],
   "source": [
    "# Filling missing values with the mean for the selected columns\n",
    "df['Explained by: Log GDP per capita'] = df['Explained by: Log GDP per capita'].fillna(df['Explained by: Log GDP per capita'].mean())\n",
    "df['Explained by: Social support'] = df['Explained by: Social support'].fillna(df['Explained by: Social support'].mean())\n",
    "df['Explained by: Healthy life expectancy'] = df['Explained by: Healthy life expectancy'].fillna(df['Explained by: Healthy life expectancy'].mean())\n",
    "df['Explained by: Freedom to make life choices'] = df['Explained by: Freedom to make life choices'].fillna(df['Explained by: Freedom to make life choices'].mean())\n",
    "df['Explained by: Generosity'] = df['Explained by: Generosity'].fillna(df['Explained by: Generosity'].mean())\n",
    "df['Explained by: Perceptions of corruption'] = df['Explained by: Perceptions of corruption'].fillna(df['Explained by: Perceptions of corruption'].mean())\n",
    "df['Dystopia + residual'] = df['Dystopia + residual'].fillna(df['Dystopia + residual'].mean())\n",
    "\n",
    "print(df)"
   ]
  },
  {
   "cell_type": "markdown",
   "metadata": {},
   "source": [
    "## Results of Filling Missing Values\n",
    "\n",
    "After filling the missing values with the mean, the dataset should no longer have any missing values in the specified columns. To confirm that the changes were successful, we can check the number of missing values again using the `isnull().sum()` method.\n",
    "\n",
    "We expect that all the columns now have 0 missing values, and the dataset is ready for further analysis or visualization.\n"
   ]
  },
  {
   "cell_type": "code",
   "execution_count": 13,
   "metadata": {},
   "outputs": [
    {
     "data": {
      "text/plain": [
       "Country name                                  0\n",
       "Ladder score                                  0\n",
       "upperwhisker                                  0\n",
       "lowerwhisker                                  0\n",
       "Explained by: Log GDP per capita              0\n",
       "Explained by: Social support                  0\n",
       "Explained by: Healthy life expectancy         0\n",
       "Explained by: Freedom to make life choices    0\n",
       "Explained by: Generosity                      0\n",
       "Explained by: Perceptions of corruption       0\n",
       "Dystopia + residual                           0\n",
       "dtype: int64"
      ]
     },
     "execution_count": 13,
     "metadata": {},
     "output_type": "execute_result"
    }
   ],
   "source": [
    "# Check for any missing values in the dataset\n",
    "df.isnull().sum()\n"
   ]
  },
  {
   "cell_type": "markdown",
   "metadata": {},
   "source": [
    "## Results of Checking Missing Values\n",
    "\n",
    "All the columns now have 0 missing values, and the dataset is ready for further analysis or visualization.\n"
   ]
  },
  {
   "cell_type": "markdown",
   "metadata": {},
   "source": [
    "## Checking Dataset Info\n",
    "\n",
    "The `df.info()` method provides a summary of the DataFrame, including the number of entries, column names, non-null counts, and data types for each column. This will help us confirm that there are no more missing values and verify the data types for each column.\n",
    "\n",
    "We will use this to check if the missing values were filled correctly and ensure that all data types are correct before proceeding with further analysis or visualizations.\n",
    "\n"
   ]
  },
  {
   "cell_type": "code",
   "execution_count": 14,
   "metadata": {},
   "outputs": [
    {
     "name": "stdout",
     "output_type": "stream",
     "text": [
      "<class 'pandas.core.frame.DataFrame'>\n",
      "RangeIndex: 143 entries, 0 to 142\n",
      "Data columns (total 11 columns):\n",
      " #   Column                                      Non-Null Count  Dtype  \n",
      "---  ------                                      --------------  -----  \n",
      " 0   Country name                                143 non-null    object \n",
      " 1   Ladder score                                143 non-null    float64\n",
      " 2   upperwhisker                                143 non-null    float64\n",
      " 3   lowerwhisker                                143 non-null    float64\n",
      " 4   Explained by: Log GDP per capita            143 non-null    float64\n",
      " 5   Explained by: Social support                143 non-null    float64\n",
      " 6   Explained by: Healthy life expectancy       143 non-null    float64\n",
      " 7   Explained by: Freedom to make life choices  143 non-null    float64\n",
      " 8   Explained by: Generosity                    143 non-null    float64\n",
      " 9   Explained by: Perceptions of corruption     143 non-null    float64\n",
      " 10  Dystopia + residual                         143 non-null    float64\n",
      "dtypes: float64(10), object(1)\n",
      "memory usage: 12.4+ KB\n"
     ]
    }
   ],
   "source": [
    "# Checking the DataFrame info after filling missing values\n",
    "df.info()\n"
   ]
  },
  {
   "cell_type": "markdown",
   "metadata": {},
   "source": [
    "## Results of Dataset Info\n",
    "\n",
    "The `df.info()` method shows the summary of the DataFrame, including the number of non-null entries and the data types of each column. After filling the missing values, we should expect that the columns with previously missing values now show \"143 non-null\" entries. \n",
    "\n",
    "We should also confirm that the data types are correct for each column, especially ensuring that numerical columns are still in the appropriate format (e.g., `float64` for the continuous data).\n",
    "\n"
   ]
  },
  {
   "cell_type": "markdown",
   "metadata": {},
   "source": [
    "## Descriptive Statistics for Numerical Columns\n",
    "\n",
    "The `df.describe()` method generates summary statistics for the numerical columns in the dataset, including:\n",
    "\n",
    "- Count\n",
    "- Mean\n",
    "- Standard Deviation (std)\n",
    "- Minimum value (min)\n",
    "- 25th percentile (25%)\n",
    "- Median (50%)\n",
    "- 75th percentile (75%)\n",
    "- Maximum value (max)\n",
    "\n",
    "This is helpful to ensure that the data distribution is in the expected range and to check if the filled values are reasonable based on the rest of the data. It also helps in identifying any outliers or inconsistencies.\n"
   ]
  },
  {
   "cell_type": "code",
   "execution_count": 15,
   "metadata": {},
   "outputs": [
    {
     "data": {
      "text/html": [
       "<div>\n",
       "<style scoped>\n",
       "    .dataframe tbody tr th:only-of-type {\n",
       "        vertical-align: middle;\n",
       "    }\n",
       "\n",
       "    .dataframe tbody tr th {\n",
       "        vertical-align: top;\n",
       "    }\n",
       "\n",
       "    .dataframe thead th {\n",
       "        text-align: right;\n",
       "    }\n",
       "</style>\n",
       "<table border=\"1\" class=\"dataframe\">\n",
       "  <thead>\n",
       "    <tr style=\"text-align: right;\">\n",
       "      <th></th>\n",
       "      <th>Ladder score</th>\n",
       "      <th>upperwhisker</th>\n",
       "      <th>lowerwhisker</th>\n",
       "      <th>Explained by: Log GDP per capita</th>\n",
       "      <th>Explained by: Social support</th>\n",
       "      <th>Explained by: Healthy life expectancy</th>\n",
       "      <th>Explained by: Freedom to make life choices</th>\n",
       "      <th>Explained by: Generosity</th>\n",
       "      <th>Explained by: Perceptions of corruption</th>\n",
       "      <th>Dystopia + residual</th>\n",
       "    </tr>\n",
       "  </thead>\n",
       "  <tbody>\n",
       "    <tr>\n",
       "      <th>count</th>\n",
       "      <td>143.000000</td>\n",
       "      <td>143.000000</td>\n",
       "      <td>143.000000</td>\n",
       "      <td>143.000000</td>\n",
       "      <td>143.000000</td>\n",
       "      <td>143.000000</td>\n",
       "      <td>143.000000</td>\n",
       "      <td>143.000000</td>\n",
       "      <td>143.000000</td>\n",
       "      <td>143.000000</td>\n",
       "    </tr>\n",
       "    <tr>\n",
       "      <th>mean</th>\n",
       "      <td>5.527580</td>\n",
       "      <td>5.641175</td>\n",
       "      <td>5.413972</td>\n",
       "      <td>1.378807</td>\n",
       "      <td>1.134329</td>\n",
       "      <td>0.520886</td>\n",
       "      <td>0.620621</td>\n",
       "      <td>0.146271</td>\n",
       "      <td>0.154121</td>\n",
       "      <td>1.575914</td>\n",
       "    </tr>\n",
       "    <tr>\n",
       "      <th>std</th>\n",
       "      <td>1.170717</td>\n",
       "      <td>1.155008</td>\n",
       "      <td>1.187133</td>\n",
       "      <td>0.420584</td>\n",
       "      <td>0.329777</td>\n",
       "      <td>0.163171</td>\n",
       "      <td>0.160766</td>\n",
       "      <td>0.072661</td>\n",
       "      <td>0.124898</td>\n",
       "      <td>0.531751</td>\n",
       "    </tr>\n",
       "    <tr>\n",
       "      <th>min</th>\n",
       "      <td>1.721000</td>\n",
       "      <td>1.775000</td>\n",
       "      <td>1.667000</td>\n",
       "      <td>0.000000</td>\n",
       "      <td>0.000000</td>\n",
       "      <td>0.000000</td>\n",
       "      <td>0.000000</td>\n",
       "      <td>0.000000</td>\n",
       "      <td>0.000000</td>\n",
       "      <td>-0.073000</td>\n",
       "    </tr>\n",
       "    <tr>\n",
       "      <th>25%</th>\n",
       "      <td>4.726000</td>\n",
       "      <td>4.845500</td>\n",
       "      <td>4.606000</td>\n",
       "      <td>1.079000</td>\n",
       "      <td>0.924500</td>\n",
       "      <td>0.400000</td>\n",
       "      <td>0.531000</td>\n",
       "      <td>0.092500</td>\n",
       "      <td>0.069000</td>\n",
       "      <td>1.317000</td>\n",
       "    </tr>\n",
       "    <tr>\n",
       "      <th>50%</th>\n",
       "      <td>5.785000</td>\n",
       "      <td>5.895000</td>\n",
       "      <td>5.674000</td>\n",
       "      <td>1.403000</td>\n",
       "      <td>1.217000</td>\n",
       "      <td>0.549000</td>\n",
       "      <td>0.632000</td>\n",
       "      <td>0.138000</td>\n",
       "      <td>0.122000</td>\n",
       "      <td>1.640000</td>\n",
       "    </tr>\n",
       "    <tr>\n",
       "      <th>75%</th>\n",
       "      <td>6.416000</td>\n",
       "      <td>6.507500</td>\n",
       "      <td>6.319000</td>\n",
       "      <td>1.733000</td>\n",
       "      <td>1.377000</td>\n",
       "      <td>0.644000</td>\n",
       "      <td>0.734000</td>\n",
       "      <td>0.191500</td>\n",
       "      <td>0.191000</td>\n",
       "      <td>1.879500</td>\n",
       "    </tr>\n",
       "    <tr>\n",
       "      <th>max</th>\n",
       "      <td>7.741000</td>\n",
       "      <td>7.815000</td>\n",
       "      <td>7.667000</td>\n",
       "      <td>2.141000</td>\n",
       "      <td>1.617000</td>\n",
       "      <td>0.857000</td>\n",
       "      <td>0.863000</td>\n",
       "      <td>0.401000</td>\n",
       "      <td>0.575000</td>\n",
       "      <td>2.998000</td>\n",
       "    </tr>\n",
       "  </tbody>\n",
       "</table>\n",
       "</div>"
      ],
      "text/plain": [
       "       Ladder score  upperwhisker  lowerwhisker  \\\n",
       "count    143.000000    143.000000    143.000000   \n",
       "mean       5.527580      5.641175      5.413972   \n",
       "std        1.170717      1.155008      1.187133   \n",
       "min        1.721000      1.775000      1.667000   \n",
       "25%        4.726000      4.845500      4.606000   \n",
       "50%        5.785000      5.895000      5.674000   \n",
       "75%        6.416000      6.507500      6.319000   \n",
       "max        7.741000      7.815000      7.667000   \n",
       "\n",
       "       Explained by: Log GDP per capita  Explained by: Social support  \\\n",
       "count                        143.000000                    143.000000   \n",
       "mean                           1.378807                      1.134329   \n",
       "std                            0.420584                      0.329777   \n",
       "min                            0.000000                      0.000000   \n",
       "25%                            1.079000                      0.924500   \n",
       "50%                            1.403000                      1.217000   \n",
       "75%                            1.733000                      1.377000   \n",
       "max                            2.141000                      1.617000   \n",
       "\n",
       "       Explained by: Healthy life expectancy  \\\n",
       "count                             143.000000   \n",
       "mean                                0.520886   \n",
       "std                                 0.163171   \n",
       "min                                 0.000000   \n",
       "25%                                 0.400000   \n",
       "50%                                 0.549000   \n",
       "75%                                 0.644000   \n",
       "max                                 0.857000   \n",
       "\n",
       "       Explained by: Freedom to make life choices  Explained by: Generosity  \\\n",
       "count                                  143.000000                143.000000   \n",
       "mean                                     0.620621                  0.146271   \n",
       "std                                      0.160766                  0.072661   \n",
       "min                                      0.000000                  0.000000   \n",
       "25%                                      0.531000                  0.092500   \n",
       "50%                                      0.632000                  0.138000   \n",
       "75%                                      0.734000                  0.191500   \n",
       "max                                      0.863000                  0.401000   \n",
       "\n",
       "       Explained by: Perceptions of corruption  Dystopia + residual  \n",
       "count                               143.000000           143.000000  \n",
       "mean                                  0.154121             1.575914  \n",
       "std                                   0.124898             0.531751  \n",
       "min                                   0.000000            -0.073000  \n",
       "25%                                   0.069000             1.317000  \n",
       "50%                                   0.122000             1.640000  \n",
       "75%                                   0.191000             1.879500  \n",
       "max                                   0.575000             2.998000  "
      ]
     },
     "execution_count": 15,
     "metadata": {},
     "output_type": "execute_result"
    }
   ],
   "source": [
    "# Generate descriptive statistics for numerical columns\n",
    "df.describe()\n"
   ]
  },
  {
   "cell_type": "markdown",
   "metadata": {},
   "source": [
    "### Explanation of Results:\n",
    "\n",
    "- **Ladder Score**: The average happiness score is around 5.53, with a wide range from 1.72 to 7.74. This indicates variability in happiness levels across countries.\n",
    "\n",
    "- **Upper Whisker**: Similar to the Ladder score, the upper whisker has a mean of 5.64, showing that the upper end of data points is close to the average happiness score.\n",
    "\n",
    "- **Lower Whisker**: The lower whisker, with a mean of 5.41, represents the lowest values within 1.5 times the interquartile range below the 25th percentile.\n",
    "\n",
    "- **Log GDP per capita**: The average GDP per capita is 1.38, with significant variation, ranging from very low to high GDP countries.\n",
    "\n",
    "- **Social Support**: Social support has a mean of 1.13, with a wide range, showing that some countries offer significantly more social support than others.\n",
    "\n",
    "- **Healthy Life Expectancy**: The mean life expectancy is 0.52, with values ranging from 0 to 0.86, indicating varied healthcare outcomes.\n",
    "\n",
    "- **Freedom to Make Life Choices**: The average score is 0.62, suggesting that most countries offer a moderate degree of freedom to their citizens.\n",
    "\n",
    "- **Generosity**: The average generosity is 0.15, with values ranging from 0.00 to 0.40, indicating low generosity across countries.\n",
    "\n",
    "- **Perceptions of Corruption**: The average perception of corruption is 0.15, with some countries reporting lower perceptions of corruption.\n",
    "\n",
    "- **Dystopia + Residual**: The mean value is 1.58, which reflects the residuals after accounting for other factors in the happiness scores.\n"
   ]
  },
  {
   "cell_type": "markdown",
   "metadata": {},
   "source": [
    "### Checking for Duplicates\n",
    "\n",
    "- The code checks whether any duplicate rows exist in the dataset.\n",
    "- If duplicates are found, the number of duplicate entries is printed.\n",
    "- If no duplicates are found, a message is displayed confirming that no duplicates exist.\n"
   ]
  },
  {
   "cell_type": "code",
   "execution_count": 16,
   "metadata": {},
   "outputs": [
    {
     "name": "stdout",
     "output_type": "stream",
     "text": [
      "No duplicates found\n"
     ]
    }
   ],
   "source": [
    "# Check for duplicate rows\n",
    "duplicates = df[df.duplicated()]\n",
    "if len(duplicates) > 0:\n",
    "    print(f\"Found {len(duplicates)} duplicates\")\n",
    "else:\n",
    "    print(\"No duplicates found\")\n"
   ]
  },
  {
   "cell_type": "markdown",
   "metadata": {},
   "source": [
    "### Duplicates checked\n",
    "\n",
    "A message is displayed confirming that no duplicates exist."
   ]
  },
  {
   "cell_type": "code",
   "execution_count": 17,
   "metadata": {},
   "outputs": [
    {
     "data": {
      "application/vnd.plotly.v1+json": {
       "config": {
        "plotlyServerURL": "https://plot.ly"
       },
       "data": [
        {
         "alignmentgroup": "True",
         "bingroup": "x",
         "hovertemplate": "Happiness Score (Ladder Score)=%{x}<br>count=%{y}<extra></extra>",
         "legendgroup": "",
         "marker": {
          "color": "#636efa",
          "pattern": {
           "shape": ""
          }
         },
         "name": "",
         "nbinsx": 20,
         "offsetgroup": "",
         "orientation": "v",
         "showlegend": false,
         "type": "histogram",
         "x": [
          7.741,
          7.583,
          7.525,
          7.344,
          7.341,
          7.319,
          7.302,
          7.122,
          7.06,
          7.057,
          7.029,
          6.955,
          6.951,
          6.905,
          6.9,
          6.894,
          6.838,
          6.822,
          6.818,
          6.749,
          6.743,
          6.733,
          6.725,
          6.719,
          6.678,
          6.611,
          6.609,
          6.594,
          6.561,
          6.523,
          6.503,
          6.491,
          6.469,
          6.448,
          6.442,
          6.421,
          6.411,
          6.36,
          6.358,
          6.346,
          6.324,
          6.287,
          6.284,
          6.272,
          6.257,
          6.234,
          6.195,
          6.188,
          6.188,
          6.068,
          6.06,
          6.058,
          6.048,
          6.043,
          6.03,
          6.017,
          5.977,
          5.976,
          5.975,
          5.973,
          5.968,
          5.959,
          5.942,
          5.934,
          5.877,
          5.866,
          5.842,
          5.841,
          5.823,
          5.816,
          5.816,
          5.785,
          5.784,
          5.725,
          5.714,
          5.707,
          5.696,
          5.695,
          5.607,
          5.568,
          5.463,
          5.455,
          5.422,
          5.369,
          5.364,
          5.316,
          5.304,
          5.281,
          5.221,
          5.216,
          5.185,
          5.166,
          5.158,
          5.139,
          5.106,
          5.08,
          5.023,
          4.975,
          4.969,
          4.923,
          4.893,
          4.881,
          4.879,
          4.874,
          4.873,
          4.832,
          4.795,
          4.657,
          4.556,
          4.548,
          4.505,
          4.485,
          4.471,
          4.47,
          4.422,
          4.377,
          4.372,
          4.354,
          4.341,
          4.289,
          4.269,
          4.232,
          4.228,
          4.214,
          4.186,
          4.054,
          3.977,
          3.898,
          3.886,
          3.861,
          3.781,
          3.566,
          3.561,
          3.502,
          3.502,
          3.421,
          3.383,
          3.341,
          3.295,
          3.245,
          3.186,
          2.707,
          1.721
         ],
         "xaxis": "x",
         "yaxis": "y"
        }
       ],
       "layout": {
        "barmode": "relative",
        "legend": {
         "tracegroupgap": 0
        },
        "template": {
         "data": {
          "bar": [
           {
            "error_x": {
             "color": "#2a3f5f"
            },
            "error_y": {
             "color": "#2a3f5f"
            },
            "marker": {
             "line": {
              "color": "#E5ECF6",
              "width": 0.5
             },
             "pattern": {
              "fillmode": "overlay",
              "size": 10,
              "solidity": 0.2
             }
            },
            "type": "bar"
           }
          ],
          "barpolar": [
           {
            "marker": {
             "line": {
              "color": "#E5ECF6",
              "width": 0.5
             },
             "pattern": {
              "fillmode": "overlay",
              "size": 10,
              "solidity": 0.2
             }
            },
            "type": "barpolar"
           }
          ],
          "carpet": [
           {
            "aaxis": {
             "endlinecolor": "#2a3f5f",
             "gridcolor": "white",
             "linecolor": "white",
             "minorgridcolor": "white",
             "startlinecolor": "#2a3f5f"
            },
            "baxis": {
             "endlinecolor": "#2a3f5f",
             "gridcolor": "white",
             "linecolor": "white",
             "minorgridcolor": "white",
             "startlinecolor": "#2a3f5f"
            },
            "type": "carpet"
           }
          ],
          "choropleth": [
           {
            "colorbar": {
             "outlinewidth": 0,
             "ticks": ""
            },
            "type": "choropleth"
           }
          ],
          "contour": [
           {
            "colorbar": {
             "outlinewidth": 0,
             "ticks": ""
            },
            "colorscale": [
             [
              0,
              "#0d0887"
             ],
             [
              0.1111111111111111,
              "#46039f"
             ],
             [
              0.2222222222222222,
              "#7201a8"
             ],
             [
              0.3333333333333333,
              "#9c179e"
             ],
             [
              0.4444444444444444,
              "#bd3786"
             ],
             [
              0.5555555555555556,
              "#d8576b"
             ],
             [
              0.6666666666666666,
              "#ed7953"
             ],
             [
              0.7777777777777778,
              "#fb9f3a"
             ],
             [
              0.8888888888888888,
              "#fdca26"
             ],
             [
              1,
              "#f0f921"
             ]
            ],
            "type": "contour"
           }
          ],
          "contourcarpet": [
           {
            "colorbar": {
             "outlinewidth": 0,
             "ticks": ""
            },
            "type": "contourcarpet"
           }
          ],
          "heatmap": [
           {
            "colorbar": {
             "outlinewidth": 0,
             "ticks": ""
            },
            "colorscale": [
             [
              0,
              "#0d0887"
             ],
             [
              0.1111111111111111,
              "#46039f"
             ],
             [
              0.2222222222222222,
              "#7201a8"
             ],
             [
              0.3333333333333333,
              "#9c179e"
             ],
             [
              0.4444444444444444,
              "#bd3786"
             ],
             [
              0.5555555555555556,
              "#d8576b"
             ],
             [
              0.6666666666666666,
              "#ed7953"
             ],
             [
              0.7777777777777778,
              "#fb9f3a"
             ],
             [
              0.8888888888888888,
              "#fdca26"
             ],
             [
              1,
              "#f0f921"
             ]
            ],
            "type": "heatmap"
           }
          ],
          "heatmapgl": [
           {
            "colorbar": {
             "outlinewidth": 0,
             "ticks": ""
            },
            "colorscale": [
             [
              0,
              "#0d0887"
             ],
             [
              0.1111111111111111,
              "#46039f"
             ],
             [
              0.2222222222222222,
              "#7201a8"
             ],
             [
              0.3333333333333333,
              "#9c179e"
             ],
             [
              0.4444444444444444,
              "#bd3786"
             ],
             [
              0.5555555555555556,
              "#d8576b"
             ],
             [
              0.6666666666666666,
              "#ed7953"
             ],
             [
              0.7777777777777778,
              "#fb9f3a"
             ],
             [
              0.8888888888888888,
              "#fdca26"
             ],
             [
              1,
              "#f0f921"
             ]
            ],
            "type": "heatmapgl"
           }
          ],
          "histogram": [
           {
            "marker": {
             "pattern": {
              "fillmode": "overlay",
              "size": 10,
              "solidity": 0.2
             }
            },
            "type": "histogram"
           }
          ],
          "histogram2d": [
           {
            "colorbar": {
             "outlinewidth": 0,
             "ticks": ""
            },
            "colorscale": [
             [
              0,
              "#0d0887"
             ],
             [
              0.1111111111111111,
              "#46039f"
             ],
             [
              0.2222222222222222,
              "#7201a8"
             ],
             [
              0.3333333333333333,
              "#9c179e"
             ],
             [
              0.4444444444444444,
              "#bd3786"
             ],
             [
              0.5555555555555556,
              "#d8576b"
             ],
             [
              0.6666666666666666,
              "#ed7953"
             ],
             [
              0.7777777777777778,
              "#fb9f3a"
             ],
             [
              0.8888888888888888,
              "#fdca26"
             ],
             [
              1,
              "#f0f921"
             ]
            ],
            "type": "histogram2d"
           }
          ],
          "histogram2dcontour": [
           {
            "colorbar": {
             "outlinewidth": 0,
             "ticks": ""
            },
            "colorscale": [
             [
              0,
              "#0d0887"
             ],
             [
              0.1111111111111111,
              "#46039f"
             ],
             [
              0.2222222222222222,
              "#7201a8"
             ],
             [
              0.3333333333333333,
              "#9c179e"
             ],
             [
              0.4444444444444444,
              "#bd3786"
             ],
             [
              0.5555555555555556,
              "#d8576b"
             ],
             [
              0.6666666666666666,
              "#ed7953"
             ],
             [
              0.7777777777777778,
              "#fb9f3a"
             ],
             [
              0.8888888888888888,
              "#fdca26"
             ],
             [
              1,
              "#f0f921"
             ]
            ],
            "type": "histogram2dcontour"
           }
          ],
          "mesh3d": [
           {
            "colorbar": {
             "outlinewidth": 0,
             "ticks": ""
            },
            "type": "mesh3d"
           }
          ],
          "parcoords": [
           {
            "line": {
             "colorbar": {
              "outlinewidth": 0,
              "ticks": ""
             }
            },
            "type": "parcoords"
           }
          ],
          "pie": [
           {
            "automargin": true,
            "type": "pie"
           }
          ],
          "scatter": [
           {
            "fillpattern": {
             "fillmode": "overlay",
             "size": 10,
             "solidity": 0.2
            },
            "type": "scatter"
           }
          ],
          "scatter3d": [
           {
            "line": {
             "colorbar": {
              "outlinewidth": 0,
              "ticks": ""
             }
            },
            "marker": {
             "colorbar": {
              "outlinewidth": 0,
              "ticks": ""
             }
            },
            "type": "scatter3d"
           }
          ],
          "scattercarpet": [
           {
            "marker": {
             "colorbar": {
              "outlinewidth": 0,
              "ticks": ""
             }
            },
            "type": "scattercarpet"
           }
          ],
          "scattergeo": [
           {
            "marker": {
             "colorbar": {
              "outlinewidth": 0,
              "ticks": ""
             }
            },
            "type": "scattergeo"
           }
          ],
          "scattergl": [
           {
            "marker": {
             "colorbar": {
              "outlinewidth": 0,
              "ticks": ""
             }
            },
            "type": "scattergl"
           }
          ],
          "scattermapbox": [
           {
            "marker": {
             "colorbar": {
              "outlinewidth": 0,
              "ticks": ""
             }
            },
            "type": "scattermapbox"
           }
          ],
          "scatterpolar": [
           {
            "marker": {
             "colorbar": {
              "outlinewidth": 0,
              "ticks": ""
             }
            },
            "type": "scatterpolar"
           }
          ],
          "scatterpolargl": [
           {
            "marker": {
             "colorbar": {
              "outlinewidth": 0,
              "ticks": ""
             }
            },
            "type": "scatterpolargl"
           }
          ],
          "scatterternary": [
           {
            "marker": {
             "colorbar": {
              "outlinewidth": 0,
              "ticks": ""
             }
            },
            "type": "scatterternary"
           }
          ],
          "surface": [
           {
            "colorbar": {
             "outlinewidth": 0,
             "ticks": ""
            },
            "colorscale": [
             [
              0,
              "#0d0887"
             ],
             [
              0.1111111111111111,
              "#46039f"
             ],
             [
              0.2222222222222222,
              "#7201a8"
             ],
             [
              0.3333333333333333,
              "#9c179e"
             ],
             [
              0.4444444444444444,
              "#bd3786"
             ],
             [
              0.5555555555555556,
              "#d8576b"
             ],
             [
              0.6666666666666666,
              "#ed7953"
             ],
             [
              0.7777777777777778,
              "#fb9f3a"
             ],
             [
              0.8888888888888888,
              "#fdca26"
             ],
             [
              1,
              "#f0f921"
             ]
            ],
            "type": "surface"
           }
          ],
          "table": [
           {
            "cells": {
             "fill": {
              "color": "#EBF0F8"
             },
             "line": {
              "color": "white"
             }
            },
            "header": {
             "fill": {
              "color": "#C8D4E3"
             },
             "line": {
              "color": "white"
             }
            },
            "type": "table"
           }
          ]
         },
         "layout": {
          "annotationdefaults": {
           "arrowcolor": "#2a3f5f",
           "arrowhead": 0,
           "arrowwidth": 1
          },
          "autotypenumbers": "strict",
          "coloraxis": {
           "colorbar": {
            "outlinewidth": 0,
            "ticks": ""
           }
          },
          "colorscale": {
           "diverging": [
            [
             0,
             "#8e0152"
            ],
            [
             0.1,
             "#c51b7d"
            ],
            [
             0.2,
             "#de77ae"
            ],
            [
             0.3,
             "#f1b6da"
            ],
            [
             0.4,
             "#fde0ef"
            ],
            [
             0.5,
             "#f7f7f7"
            ],
            [
             0.6,
             "#e6f5d0"
            ],
            [
             0.7,
             "#b8e186"
            ],
            [
             0.8,
             "#7fbc41"
            ],
            [
             0.9,
             "#4d9221"
            ],
            [
             1,
             "#276419"
            ]
           ],
           "sequential": [
            [
             0,
             "#0d0887"
            ],
            [
             0.1111111111111111,
             "#46039f"
            ],
            [
             0.2222222222222222,
             "#7201a8"
            ],
            [
             0.3333333333333333,
             "#9c179e"
            ],
            [
             0.4444444444444444,
             "#bd3786"
            ],
            [
             0.5555555555555556,
             "#d8576b"
            ],
            [
             0.6666666666666666,
             "#ed7953"
            ],
            [
             0.7777777777777778,
             "#fb9f3a"
            ],
            [
             0.8888888888888888,
             "#fdca26"
            ],
            [
             1,
             "#f0f921"
            ]
           ],
           "sequentialminus": [
            [
             0,
             "#0d0887"
            ],
            [
             0.1111111111111111,
             "#46039f"
            ],
            [
             0.2222222222222222,
             "#7201a8"
            ],
            [
             0.3333333333333333,
             "#9c179e"
            ],
            [
             0.4444444444444444,
             "#bd3786"
            ],
            [
             0.5555555555555556,
             "#d8576b"
            ],
            [
             0.6666666666666666,
             "#ed7953"
            ],
            [
             0.7777777777777778,
             "#fb9f3a"
            ],
            [
             0.8888888888888888,
             "#fdca26"
            ],
            [
             1,
             "#f0f921"
            ]
           ]
          },
          "colorway": [
           "#636efa",
           "#EF553B",
           "#00cc96",
           "#ab63fa",
           "#FFA15A",
           "#19d3f3",
           "#FF6692",
           "#B6E880",
           "#FF97FF",
           "#FECB52"
          ],
          "font": {
           "color": "#2a3f5f"
          },
          "geo": {
           "bgcolor": "white",
           "lakecolor": "white",
           "landcolor": "#E5ECF6",
           "showlakes": true,
           "showland": true,
           "subunitcolor": "white"
          },
          "hoverlabel": {
           "align": "left"
          },
          "hovermode": "closest",
          "mapbox": {
           "style": "light"
          },
          "paper_bgcolor": "white",
          "plot_bgcolor": "#E5ECF6",
          "polar": {
           "angularaxis": {
            "gridcolor": "white",
            "linecolor": "white",
            "ticks": ""
           },
           "bgcolor": "#E5ECF6",
           "radialaxis": {
            "gridcolor": "white",
            "linecolor": "white",
            "ticks": ""
           }
          },
          "scene": {
           "xaxis": {
            "backgroundcolor": "#E5ECF6",
            "gridcolor": "white",
            "gridwidth": 2,
            "linecolor": "white",
            "showbackground": true,
            "ticks": "",
            "zerolinecolor": "white"
           },
           "yaxis": {
            "backgroundcolor": "#E5ECF6",
            "gridcolor": "white",
            "gridwidth": 2,
            "linecolor": "white",
            "showbackground": true,
            "ticks": "",
            "zerolinecolor": "white"
           },
           "zaxis": {
            "backgroundcolor": "#E5ECF6",
            "gridcolor": "white",
            "gridwidth": 2,
            "linecolor": "white",
            "showbackground": true,
            "ticks": "",
            "zerolinecolor": "white"
           }
          },
          "shapedefaults": {
           "line": {
            "color": "#2a3f5f"
           }
          },
          "ternary": {
           "aaxis": {
            "gridcolor": "white",
            "linecolor": "white",
            "ticks": ""
           },
           "baxis": {
            "gridcolor": "white",
            "linecolor": "white",
            "ticks": ""
           },
           "bgcolor": "#E5ECF6",
           "caxis": {
            "gridcolor": "white",
            "linecolor": "white",
            "ticks": ""
           }
          },
          "title": {
           "x": 0.05
          },
          "xaxis": {
           "automargin": true,
           "gridcolor": "white",
           "linecolor": "white",
           "ticks": "",
           "title": {
            "standoff": 15
           },
           "zerolinecolor": "white",
           "zerolinewidth": 2
          },
          "yaxis": {
           "automargin": true,
           "gridcolor": "white",
           "linecolor": "white",
           "ticks": "",
           "title": {
            "standoff": 15
           },
           "zerolinecolor": "white",
           "zerolinewidth": 2
          }
         }
        },
        "title": {
         "text": "Distribution of Happiness Scores"
        },
        "xaxis": {
         "anchor": "y",
         "domain": [
          0,
          1
         ],
         "title": {
          "text": "Happiness Score (Ladder Score)"
         }
        },
        "yaxis": {
         "anchor": "x",
         "domain": [
          0,
          1
         ],
         "title": {
          "text": "count"
         }
        }
       }
      }
     },
     "metadata": {},
     "output_type": "display_data"
    }
   ],
   "source": [
    "# 1. The histogram will help us see how the happiness scores are distributed across countries. \n",
    "# We can check if most countries have high or low scores or if there are extreme outliers. \n",
    "# Ladder score (this is typically the happiness score of each country)\n",
    "\n",
    "import plotly.express as px\n",
    "\n",
    "# Create a histogram for the \"Ladder score\" (happiness score) column\n",
    "fig = px.histogram(df, \n",
    "                   x=\"Ladder score\", \n",
    "                   title=\"Distribution of Happiness Scores\", \n",
    "                   labels={\"Ladder score\": \"Happiness Score (Ladder Score)\"}, \n",
    "                   nbins=20)\n",
    "\n",
    "# Show the plot in Streamlit\n",
    "fig.show()\n"
   ]
  },
  {
   "cell_type": "markdown",
   "metadata": {},
   "source": [
    "### Histogram: Distribution of Happiness Scores\n",
    "\n",
    "This histogram displays the distribution of happiness scores across the countries in the dataset. \n",
    "\n",
    "The **x-axis** represents the happiness scores, and the **y-axis** shows how many countries fall into each score range. \n",
    "\n",
    "This chart will help us understand:\n",
    "- If most countries are concentrated in a particular range of scores.\n",
    "- If there are any extreme outliers in the data (e.g., countries with extremely low or high happiness scores).\n",
    "- The general shape of the distribution (e.g., skewed, normal, etc.).\n",
    "\n",
    "By adjusting the number of bins (`nbins`), we can control the granularity of the score intervals and get a clearer picture of how the scores are spread.\n"
   ]
  },
  {
   "cell_type": "markdown",
   "metadata": {},
   "source": [
    "### Histogram: Distribution of Happiness Scores\n",
    "The histogram below shows the distribution of happiness scores (Ladder Score) across all countries. By visualizing this, we can determine if most countries have high or low happiness scores, and whether there are any extreme outliers. This helps us understand the general trend in global happiness and identify any countries with significantly different scores.\n"
   ]
  },
  {
   "cell_type": "code",
   "execution_count": 25,
   "metadata": {},
   "outputs": [
    {
     "name": "stderr",
     "output_type": "stream",
     "text": [
      "2025-01-21 19:57:12.024 WARNING streamlit.runtime.scriptrunner_utils.script_run_context: Thread 'MainThread': missing ScriptRunContext! This warning can be ignored when running in bare mode.\n",
      "2025-01-21 19:57:12.026 WARNING streamlit.runtime.scriptrunner_utils.script_run_context: Thread 'MainThread': missing ScriptRunContext! This warning can be ignored when running in bare mode.\n",
      "2025-01-21 19:57:12.028 WARNING streamlit.runtime.scriptrunner_utils.script_run_context: Thread 'MainThread': missing ScriptRunContext! This warning can be ignored when running in bare mode.\n",
      "2025-01-21 19:57:12.030 WARNING streamlit.runtime.scriptrunner_utils.script_run_context: Thread 'MainThread': missing ScriptRunContext! This warning can be ignored when running in bare mode.\n",
      "2025-01-21 19:57:12.079 \n",
      "  \u001b[33m\u001b[1mWarning:\u001b[0m to view this Streamlit app on a browser, run it with the following\n",
      "  command:\n",
      "\n",
      "    streamlit run /Users/tamauriolive/Projects/software-development-tools-project/venv/lib/python3.13/site-packages/ipykernel_launcher.py [ARGUMENTS]\n",
      "2025-01-21 19:57:12.079 Thread 'MainThread': missing ScriptRunContext! This warning can be ignored when running in bare mode.\n"
     ]
    },
    {
     "data": {
      "application/vnd.plotly.v1+json": {
       "config": {
        "plotlyServerURL": "https://plot.ly"
       },
       "data": [
        {
         "alignmentgroup": "True",
         "bingroup": "x",
         "hovertemplate": "Happiness Score (Ladder Score)=%{x}<br>count=%{y}<extra></extra>",
         "legendgroup": "",
         "marker": {
          "color": "#000001",
          "pattern": {
           "shape": ""
          }
         },
         "name": "",
         "nbinsx": 20,
         "offsetgroup": "",
         "orientation": "v",
         "showlegend": false,
         "type": "histogram",
         "x": [
          7.741,
          7.583,
          7.525,
          7.344,
          7.341,
          7.319,
          7.302,
          7.122,
          7.06,
          7.057,
          7.029,
          6.955,
          6.951,
          6.905,
          6.9,
          6.894,
          6.838,
          6.822,
          6.818,
          6.749,
          6.743,
          6.733,
          6.725,
          6.719,
          6.678,
          6.611,
          6.609,
          6.594,
          6.561,
          6.523,
          6.503,
          6.491,
          6.469,
          6.448,
          6.442,
          6.421,
          6.411,
          6.36,
          6.358,
          6.346,
          6.324,
          6.287,
          6.284,
          6.272,
          6.257,
          6.234,
          6.195,
          6.188,
          6.188,
          6.068,
          6.06,
          6.058,
          6.048,
          6.043,
          6.03,
          6.017,
          5.977,
          5.976,
          5.975,
          5.973,
          5.968,
          5.959,
          5.942,
          5.934,
          5.877,
          5.866,
          5.842,
          5.841,
          5.823,
          5.816,
          5.816,
          5.785,
          5.784,
          5.725,
          5.714,
          5.707,
          5.696,
          5.695,
          5.607,
          5.568,
          5.463,
          5.455,
          5.422,
          5.369,
          5.364,
          5.316,
          5.304,
          5.281,
          5.221,
          5.216,
          5.185,
          5.166,
          5.158,
          5.139,
          5.106,
          5.08,
          5.023,
          4.975,
          4.969,
          4.923,
          4.893,
          4.881,
          4.879,
          4.874,
          4.873,
          4.832,
          4.795,
          4.657,
          4.556,
          4.548,
          4.505,
          4.485,
          4.471,
          4.47,
          4.422,
          4.377,
          4.372,
          4.354,
          4.341,
          4.289,
          4.269,
          4.232,
          4.228,
          4.214,
          4.186,
          4.054,
          3.977,
          3.898,
          3.886,
          3.861,
          3.781,
          3.566,
          3.561,
          3.502,
          3.502,
          3.421,
          3.383,
          3.341,
          3.295,
          3.245,
          3.186,
          2.707,
          1.721
         ],
         "xaxis": "x",
         "yaxis": "y"
        }
       ],
       "layout": {
        "barmode": "relative",
        "legend": {
         "tracegroupgap": 0
        },
        "template": {
         "data": {
          "candlestick": [
           {
            "decreasing": {
             "line": {
              "color": "#000033"
             }
            },
            "increasing": {
             "line": {
              "color": "#000032"
             }
            },
            "type": "candlestick"
           }
          ],
          "contour": [
           {
            "colorscale": [
             [
              0,
              "#000011"
             ],
             [
              0.1111111111111111,
              "#000012"
             ],
             [
              0.2222222222222222,
              "#000013"
             ],
             [
              0.3333333333333333,
              "#000014"
             ],
             [
              0.4444444444444444,
              "#000015"
             ],
             [
              0.5555555555555556,
              "#000016"
             ],
             [
              0.6666666666666666,
              "#000017"
             ],
             [
              0.7777777777777778,
              "#000018"
             ],
             [
              0.8888888888888888,
              "#000019"
             ],
             [
              1,
              "#000020"
             ]
            ],
            "type": "contour"
           }
          ],
          "contourcarpet": [
           {
            "colorscale": [
             [
              0,
              "#000011"
             ],
             [
              0.1111111111111111,
              "#000012"
             ],
             [
              0.2222222222222222,
              "#000013"
             ],
             [
              0.3333333333333333,
              "#000014"
             ],
             [
              0.4444444444444444,
              "#000015"
             ],
             [
              0.5555555555555556,
              "#000016"
             ],
             [
              0.6666666666666666,
              "#000017"
             ],
             [
              0.7777777777777778,
              "#000018"
             ],
             [
              0.8888888888888888,
              "#000019"
             ],
             [
              1,
              "#000020"
             ]
            ],
            "type": "contourcarpet"
           }
          ],
          "heatmap": [
           {
            "colorscale": [
             [
              0,
              "#000011"
             ],
             [
              0.1111111111111111,
              "#000012"
             ],
             [
              0.2222222222222222,
              "#000013"
             ],
             [
              0.3333333333333333,
              "#000014"
             ],
             [
              0.4444444444444444,
              "#000015"
             ],
             [
              0.5555555555555556,
              "#000016"
             ],
             [
              0.6666666666666666,
              "#000017"
             ],
             [
              0.7777777777777778,
              "#000018"
             ],
             [
              0.8888888888888888,
              "#000019"
             ],
             [
              1,
              "#000020"
             ]
            ],
            "type": "heatmap"
           }
          ],
          "histogram2d": [
           {
            "colorscale": [
             [
              0,
              "#000011"
             ],
             [
              0.1111111111111111,
              "#000012"
             ],
             [
              0.2222222222222222,
              "#000013"
             ],
             [
              0.3333333333333333,
              "#000014"
             ],
             [
              0.4444444444444444,
              "#000015"
             ],
             [
              0.5555555555555556,
              "#000016"
             ],
             [
              0.6666666666666666,
              "#000017"
             ],
             [
              0.7777777777777778,
              "#000018"
             ],
             [
              0.8888888888888888,
              "#000019"
             ],
             [
              1,
              "#000020"
             ]
            ],
            "type": "histogram2d"
           }
          ],
          "icicle": [
           {
            "textfont": {
             "color": "white"
            },
            "type": "icicle"
           }
          ],
          "sankey": [
           {
            "textfont": {
             "color": "#000036"
            },
            "type": "sankey"
           }
          ],
          "scatter": [
           {
            "marker": {
             "line": {
              "width": 0
             }
            },
            "type": "scatter"
           }
          ],
          "table": [
           {
            "cells": {
             "fill": {
              "color": "#000038"
             },
             "font": {
              "color": "#000037"
             },
             "line": {
              "color": "#000039"
             }
            },
            "header": {
             "fill": {
              "color": "#000040"
             },
             "font": {
              "color": "#000036"
             },
             "line": {
              "color": "#000039"
             }
            },
            "type": "table"
           }
          ],
          "waterfall": [
           {
            "connector": {
             "line": {
              "color": "#000036",
              "width": 2
             }
            },
            "decreasing": {
             "marker": {
              "color": "#000033"
             }
            },
            "increasing": {
             "marker": {
              "color": "#000032"
             }
            },
            "totals": {
             "marker": {
              "color": "#000034"
             }
            },
            "type": "waterfall"
           }
          ]
         },
         "layout": {
          "coloraxis": {
           "colorscale": [
            [
             0,
             "#000011"
            ],
            [
             0.1111111111111111,
             "#000012"
            ],
            [
             0.2222222222222222,
             "#000013"
            ],
            [
             0.3333333333333333,
             "#000014"
            ],
            [
             0.4444444444444444,
             "#000015"
            ],
            [
             0.5555555555555556,
             "#000016"
            ],
            [
             0.6666666666666666,
             "#000017"
            ],
            [
             0.7777777777777778,
             "#000018"
            ],
            [
             0.8888888888888888,
             "#000019"
            ],
            [
             1,
             "#000020"
            ]
           ]
          },
          "colorscale": {
           "diverging": [
            [
             0,
             "#000021"
            ],
            [
             0.1,
             "#000022"
            ],
            [
             0.2,
             "#000023"
            ],
            [
             0.3,
             "#000024"
            ],
            [
             0.4,
             "#000025"
            ],
            [
             0.5,
             "#000026"
            ],
            [
             0.6,
             "#000027"
            ],
            [
             0.7,
             "#000028"
            ],
            [
             0.8,
             "#000029"
            ],
            [
             0.9,
             "#000030"
            ],
            [
             1,
             "#000031"
            ]
           ],
           "sequential": [
            [
             0,
             "#000011"
            ],
            [
             0.1111111111111111,
             "#000012"
            ],
            [
             0.2222222222222222,
             "#000013"
            ],
            [
             0.3333333333333333,
             "#000014"
            ],
            [
             0.4444444444444444,
             "#000015"
            ],
            [
             0.5555555555555556,
             "#000016"
            ],
            [
             0.6666666666666666,
             "#000017"
            ],
            [
             0.7777777777777778,
             "#000018"
            ],
            [
             0.8888888888888888,
             "#000019"
            ],
            [
             1,
             "#000020"
            ]
           ],
           "sequentialminus": [
            [
             0,
             "#000011"
            ],
            [
             0.1111111111111111,
             "#000012"
            ],
            [
             0.2222222222222222,
             "#000013"
            ],
            [
             0.3333333333333333,
             "#000014"
            ],
            [
             0.4444444444444444,
             "#000015"
            ],
            [
             0.5555555555555556,
             "#000016"
            ],
            [
             0.6666666666666666,
             "#000017"
            ],
            [
             0.7777777777777778,
             "#000018"
            ],
            [
             0.8888888888888888,
             "#000019"
            ],
            [
             1,
             "#000020"
            ]
           ]
          },
          "colorway": [
           "#000001",
           "#000002",
           "#000003",
           "#000004",
           "#000005",
           "#000006",
           "#000007",
           "#000008",
           "#000009",
           "#000010"
          ]
         }
        },
        "title": {
         "text": "Distribution of Happiness Scores"
        },
        "xaxis": {
         "anchor": "y",
         "domain": [
          0,
          1
         ],
         "title": {
          "text": "Happiness Score (Ladder Score)"
         }
        },
        "yaxis": {
         "anchor": "x",
         "domain": [
          0,
          1
         ],
         "title": {
          "text": "count"
         }
        }
       }
      }
     },
     "metadata": {},
     "output_type": "display_data"
    }
   ],
   "source": [
    "import streamlit as st\n",
    "\n",
    "# Add a slider to control the number of bins for the histogram\n",
    "bins = st.slider(\"Select number of bins\", min_value=5, max_value=50, value=20)\n",
    "\n",
    "# Create the histogram with the selected number of bins\n",
    "fig = px.histogram(df, \n",
    "                   x=\"Ladder score\", \n",
    "                   title=\"Distribution of Happiness Scores\", \n",
    "                   labels={\"Ladder score\": \"Happiness Score (Ladder Score)\"}, \n",
    "                   nbins=bins)\n",
    "\n",
    "# Show the plot in Streamlit\n",
    "fig.show()\n"
   ]
  },
  {
   "cell_type": "markdown",
   "metadata": {},
   "source": [
    "### Histogram: Distribution of Happiness Scores\n",
    "The histogram below shows the distribution of happiness scores (Ladder Score) across all countries. By visualizing this, we can determine if most countries have high or low happiness scores, and whether there are any extreme outliers. This helps us understand the general trend in global happiness and identify any countries with significantly different scores.\n"
   ]
  },
  {
   "cell_type": "code",
   "execution_count": 26,
   "metadata": {},
   "outputs": [
    {
     "data": {
      "application/vnd.plotly.v1+json": {
       "config": {
        "plotlyServerURL": "https://plot.ly"
       },
       "data": [
        {
         "hovertemplate": "Explained by: Log GDP per capita=%{x}<br>Ladder score=%{y}<extra></extra>",
         "legendgroup": "",
         "marker": {
          "color": "#000001",
          "symbol": "circle"
         },
         "mode": "markers",
         "name": "",
         "orientation": "v",
         "showlegend": false,
         "type": "scatter",
         "x": [
          1.844,
          1.908,
          1.881,
          1.878,
          1.803,
          1.901,
          1.952,
          2.141,
          1.97,
          1.854,
          1.81,
          1.561,
          1.845,
          1.885,
          1.84,
          1.868,
          2.129,
          1.783,
          1.766,
          1.822,
          1.786,
          1.983,
          1.939,
          1.871,
          1.521,
          1.596,
          1.818,
          1.842,
          1.364,
          2.118,
          1.842,
          1.699,
          1.265,
          1.752,
          1.738,
          1.766,
          1.538,
          1.616,
          1.702,
          1.827,
          1.8,
          1.26,
          1.097,
          1.43,
          1.706,
          1.7,
          1.212,
          1.562,
          1.622,
          1.794,
          1.786,
          1.815,
          1.232,
          1.331,
          1.728,
          1.722,
          1.398,
          1.484,
          1.646,
          1.497,
          1.091,
          1.378807142857143,
          1.71,
          1.684,
          1.465,
          1.526,
          1.28,
          1.371,
          1.517,
          1.57,
          1.385,
          1.642,
          1.217,
          1.315,
          1.054,
          1.571,
          1.353,
          1.437,
          0,
          1.361,
          1.629,
          1.444,
          1.389,
          1.475,
          1.324,
          1.909,
          1.438,
          1.378807142857143,
          0.892,
          0.56,
          1.467,
          1.249,
          0.965,
          1.208,
          1.403,
          1.08,
          0.831,
          1.702,
          0.927,
          1.435,
          1.433,
          1.042,
          1.378807142857143,
          0.943,
          1.35,
          1.266,
          1.213,
          1.069,
          0.573,
          0.756,
          1.078,
          0.75,
          0.603,
          1.037,
          1.306,
          0.914,
          0.772,
          0.978,
          1.011,
          1.077,
          0.619,
          0.747,
          0.628,
          0.758,
          1.262,
          1.166,
          1.37,
          1.361,
          1.122,
          0.792,
          0.82,
          0.896,
          0.671,
          0.899,
          1.255,
          0.617,
          1.445,
          0.748,
          0.534,
          0.654,
          0.771,
          1.377,
          0.628
         ],
         "xaxis": "x",
         "y": [
          7.741,
          7.583,
          7.525,
          7.344,
          7.341,
          7.319,
          7.302,
          7.122,
          7.06,
          7.057,
          7.029,
          6.955,
          6.951,
          6.905,
          6.9,
          6.894,
          6.838,
          6.822,
          6.818,
          6.749,
          6.743,
          6.733,
          6.725,
          6.719,
          6.678,
          6.611,
          6.609,
          6.594,
          6.561,
          6.523,
          6.503,
          6.491,
          6.469,
          6.448,
          6.442,
          6.421,
          6.411,
          6.36,
          6.358,
          6.346,
          6.324,
          6.287,
          6.284,
          6.272,
          6.257,
          6.234,
          6.195,
          6.188,
          6.188,
          6.068,
          6.06,
          6.058,
          6.048,
          6.043,
          6.03,
          6.017,
          5.977,
          5.976,
          5.975,
          5.973,
          5.968,
          5.959,
          5.942,
          5.934,
          5.877,
          5.866,
          5.842,
          5.841,
          5.823,
          5.816,
          5.816,
          5.785,
          5.784,
          5.725,
          5.714,
          5.707,
          5.696,
          5.695,
          5.607,
          5.568,
          5.463,
          5.455,
          5.422,
          5.369,
          5.364,
          5.316,
          5.304,
          5.281,
          5.221,
          5.216,
          5.185,
          5.166,
          5.158,
          5.139,
          5.106,
          5.08,
          5.023,
          4.975,
          4.969,
          4.923,
          4.893,
          4.881,
          4.879,
          4.874,
          4.873,
          4.832,
          4.795,
          4.657,
          4.556,
          4.548,
          4.505,
          4.485,
          4.471,
          4.47,
          4.422,
          4.377,
          4.372,
          4.354,
          4.341,
          4.289,
          4.269,
          4.232,
          4.228,
          4.214,
          4.186,
          4.054,
          3.977,
          3.898,
          3.886,
          3.861,
          3.781,
          3.566,
          3.561,
          3.502,
          3.502,
          3.421,
          3.383,
          3.341,
          3.295,
          3.245,
          3.186,
          2.707,
          1.721
         ],
         "yaxis": "y"
        }
       ],
       "layout": {
        "legend": {
         "tracegroupgap": 0
        },
        "template": {
         "data": {
          "candlestick": [
           {
            "decreasing": {
             "line": {
              "color": "#000033"
             }
            },
            "increasing": {
             "line": {
              "color": "#000032"
             }
            },
            "type": "candlestick"
           }
          ],
          "contour": [
           {
            "colorscale": [
             [
              0,
              "#000011"
             ],
             [
              0.1111111111111111,
              "#000012"
             ],
             [
              0.2222222222222222,
              "#000013"
             ],
             [
              0.3333333333333333,
              "#000014"
             ],
             [
              0.4444444444444444,
              "#000015"
             ],
             [
              0.5555555555555556,
              "#000016"
             ],
             [
              0.6666666666666666,
              "#000017"
             ],
             [
              0.7777777777777778,
              "#000018"
             ],
             [
              0.8888888888888888,
              "#000019"
             ],
             [
              1,
              "#000020"
             ]
            ],
            "type": "contour"
           }
          ],
          "contourcarpet": [
           {
            "colorscale": [
             [
              0,
              "#000011"
             ],
             [
              0.1111111111111111,
              "#000012"
             ],
             [
              0.2222222222222222,
              "#000013"
             ],
             [
              0.3333333333333333,
              "#000014"
             ],
             [
              0.4444444444444444,
              "#000015"
             ],
             [
              0.5555555555555556,
              "#000016"
             ],
             [
              0.6666666666666666,
              "#000017"
             ],
             [
              0.7777777777777778,
              "#000018"
             ],
             [
              0.8888888888888888,
              "#000019"
             ],
             [
              1,
              "#000020"
             ]
            ],
            "type": "contourcarpet"
           }
          ],
          "heatmap": [
           {
            "colorscale": [
             [
              0,
              "#000011"
             ],
             [
              0.1111111111111111,
              "#000012"
             ],
             [
              0.2222222222222222,
              "#000013"
             ],
             [
              0.3333333333333333,
              "#000014"
             ],
             [
              0.4444444444444444,
              "#000015"
             ],
             [
              0.5555555555555556,
              "#000016"
             ],
             [
              0.6666666666666666,
              "#000017"
             ],
             [
              0.7777777777777778,
              "#000018"
             ],
             [
              0.8888888888888888,
              "#000019"
             ],
             [
              1,
              "#000020"
             ]
            ],
            "type": "heatmap"
           }
          ],
          "histogram2d": [
           {
            "colorscale": [
             [
              0,
              "#000011"
             ],
             [
              0.1111111111111111,
              "#000012"
             ],
             [
              0.2222222222222222,
              "#000013"
             ],
             [
              0.3333333333333333,
              "#000014"
             ],
             [
              0.4444444444444444,
              "#000015"
             ],
             [
              0.5555555555555556,
              "#000016"
             ],
             [
              0.6666666666666666,
              "#000017"
             ],
             [
              0.7777777777777778,
              "#000018"
             ],
             [
              0.8888888888888888,
              "#000019"
             ],
             [
              1,
              "#000020"
             ]
            ],
            "type": "histogram2d"
           }
          ],
          "icicle": [
           {
            "textfont": {
             "color": "white"
            },
            "type": "icicle"
           }
          ],
          "sankey": [
           {
            "textfont": {
             "color": "#000036"
            },
            "type": "sankey"
           }
          ],
          "scatter": [
           {
            "marker": {
             "line": {
              "width": 0
             }
            },
            "type": "scatter"
           }
          ],
          "table": [
           {
            "cells": {
             "fill": {
              "color": "#000038"
             },
             "font": {
              "color": "#000037"
             },
             "line": {
              "color": "#000039"
             }
            },
            "header": {
             "fill": {
              "color": "#000040"
             },
             "font": {
              "color": "#000036"
             },
             "line": {
              "color": "#000039"
             }
            },
            "type": "table"
           }
          ],
          "waterfall": [
           {
            "connector": {
             "line": {
              "color": "#000036",
              "width": 2
             }
            },
            "decreasing": {
             "marker": {
              "color": "#000033"
             }
            },
            "increasing": {
             "marker": {
              "color": "#000032"
             }
            },
            "totals": {
             "marker": {
              "color": "#000034"
             }
            },
            "type": "waterfall"
           }
          ]
         },
         "layout": {
          "coloraxis": {
           "colorscale": [
            [
             0,
             "#000011"
            ],
            [
             0.1111111111111111,
             "#000012"
            ],
            [
             0.2222222222222222,
             "#000013"
            ],
            [
             0.3333333333333333,
             "#000014"
            ],
            [
             0.4444444444444444,
             "#000015"
            ],
            [
             0.5555555555555556,
             "#000016"
            ],
            [
             0.6666666666666666,
             "#000017"
            ],
            [
             0.7777777777777778,
             "#000018"
            ],
            [
             0.8888888888888888,
             "#000019"
            ],
            [
             1,
             "#000020"
            ]
           ]
          },
          "colorscale": {
           "diverging": [
            [
             0,
             "#000021"
            ],
            [
             0.1,
             "#000022"
            ],
            [
             0.2,
             "#000023"
            ],
            [
             0.3,
             "#000024"
            ],
            [
             0.4,
             "#000025"
            ],
            [
             0.5,
             "#000026"
            ],
            [
             0.6,
             "#000027"
            ],
            [
             0.7,
             "#000028"
            ],
            [
             0.8,
             "#000029"
            ],
            [
             0.9,
             "#000030"
            ],
            [
             1,
             "#000031"
            ]
           ],
           "sequential": [
            [
             0,
             "#000011"
            ],
            [
             0.1111111111111111,
             "#000012"
            ],
            [
             0.2222222222222222,
             "#000013"
            ],
            [
             0.3333333333333333,
             "#000014"
            ],
            [
             0.4444444444444444,
             "#000015"
            ],
            [
             0.5555555555555556,
             "#000016"
            ],
            [
             0.6666666666666666,
             "#000017"
            ],
            [
             0.7777777777777778,
             "#000018"
            ],
            [
             0.8888888888888888,
             "#000019"
            ],
            [
             1,
             "#000020"
            ]
           ],
           "sequentialminus": [
            [
             0,
             "#000011"
            ],
            [
             0.1111111111111111,
             "#000012"
            ],
            [
             0.2222222222222222,
             "#000013"
            ],
            [
             0.3333333333333333,
             "#000014"
            ],
            [
             0.4444444444444444,
             "#000015"
            ],
            [
             0.5555555555555556,
             "#000016"
            ],
            [
             0.6666666666666666,
             "#000017"
            ],
            [
             0.7777777777777778,
             "#000018"
            ],
            [
             0.8888888888888888,
             "#000019"
            ],
            [
             1,
             "#000020"
            ]
           ]
          },
          "colorway": [
           "#000001",
           "#000002",
           "#000003",
           "#000004",
           "#000005",
           "#000006",
           "#000007",
           "#000008",
           "#000009",
           "#000010"
          ]
         }
        },
        "title": {
         "text": "Happiness vs GDP per Capita"
        },
        "xaxis": {
         "anchor": "y",
         "domain": [
          0,
          1
         ],
         "title": {
          "text": "Explained by: Log GDP per capita"
         }
        },
        "yaxis": {
         "anchor": "x",
         "domain": [
          0,
          1
         ],
         "title": {
          "text": "Ladder score"
         }
        }
       }
      }
     },
     "metadata": {},
     "output_type": "display_data"
    }
   ],
   "source": [
    "# A scatterplot is useful for examining the relationship between two variables. \n",
    "# We're exploring if there's any correlation between happiness scores and other factors such as GDP.\n",
    "\n",
    "fig = px.scatter(df, x=\"Explained by: Log GDP per capita\", y=\"Ladder score\", title=\"Happiness vs GDP per Capita\")\n",
    "fig.show()"
   ]
  },
  {
   "cell_type": "markdown",
   "metadata": {},
   "source": [
    "### Scatter Plot: Happiness vs GDP per Capita\n",
    "\n",
    "This scatter plot examines the relationship between **happiness scores** (`Ladder score`) and **GDP per capita** (`Explained by: Log GDP per capita`). The plot displays how these two variables correlate across countries.\n",
    "\n",
    "From the plot, we can see a general upward trend, suggesting that countries with higher GDP per capita tend to have higher happiness scores. This could indicate that economic factors, represented by GDP, play a significant role in the overall well-being of a country's population.\n",
    "\n",
    "However, there is some scatter, which implies that other factors beyond GDP may also be influencing the happiness scores. It is essential to consider additional variables such as social support, freedom to make life choices, and other aspects when analyzing happiness scores.\n"
   ]
  },
  {
   "cell_type": "markdown",
   "metadata": {},
   "source": [
    "### Overall Conclusion\n",
    "\n",
    "In this project, we explored the World Happiness Report dataset to visualize and analyze the relationships between various factors influencing global happiness scores. We utilized interactive components in a Streamlit app, including histograms and scatter plots, to present the data in a more accessible and engaging way.\n",
    "\n",
    "- We examined the distribution of happiness scores across countries, using a histogram to show how scores are spread.\n",
    "- A scatter plot was used to explore the correlation between happiness scores and other factors such as GDP, providing insights into how these variables interact.\n",
    "- Additional improvements, like filtering data based on GDP and adjusting the number of histogram bins, allowed for a more customized and insightful analysis.\n",
    "\n",
    "Through this process, we gained a deeper understanding of the key drivers of happiness across countries, with a focus on GDP, social support, and health-related factors. The app provides users with an intuitive interface to explore the dataset and derive insights from the visualizations.\n"
   ]
  }
 ],
 "metadata": {
  "kernelspec": {
   "display_name": "venv",
   "language": "python",
   "name": "python3"
  },
  "language_info": {
   "codemirror_mode": {
    "name": "ipython",
    "version": 3
   },
   "file_extension": ".py",
   "mimetype": "text/x-python",
   "name": "python",
   "nbconvert_exporter": "python",
   "pygments_lexer": "ipython3",
   "version": "3.13.1"
  }
 },
 "nbformat": 4,
 "nbformat_minor": 4
}
